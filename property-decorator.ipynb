{
 "cells": [
  {
   "cell_type": "markdown",
   "metadata": {},
   "source": [
    "This page is about the `property` decorator.\n",
    "\n",
    "References: https://docs.python.org/3/library/functions.html#property\n",
    "\n",
    "`property` is a built in function, but it is most often used as a decorator."
   ]
  },
  {
   "cell_type": "code",
   "execution_count": 14,
   "metadata": {},
   "outputs": [
    {
     "name": "stdout",
     "output_type": "stream",
     "text": [
      "data is  123\n",
      "data is  456\n",
      "data was negative\n",
      "data is  911\n"
     ]
    }
   ],
   "source": [
    "# Sample code\n",
    "\n",
    "class Example:\n",
    "    def __init__(self, value):\n",
    "        # Note: We set the property here (not the instance variable)\n",
    "        self.data = value\n",
    "        \n",
    "    @property\n",
    "    def data(self):\n",
    "        return self._data\n",
    "\n",
    "    @data.setter\n",
    "    def data(self, value):\n",
    "        if value <= 0:\n",
    "            raise ValueError('oh no, lets be positive')\n",
    "        self._data = value\n",
    "\n",
    "# Note: We access data as if it's an instance variable, not a function.\n",
    "e = Example(123)\n",
    "print('data is ', e.data)\n",
    "\n",
    "e.data = 456\n",
    "print('data is ', e.data)\n",
    "\n",
    "try:\n",
    "    e.data = -789\n",
    "except ValueError:\n",
    "    print('data was negative')\n",
    "    \n",
    "# Note, it doesn't actually prevent access\n",
    "e._data = 911\n",
    "print('data is ', e.data)"
   ]
  },
  {
   "cell_type": "markdown",
   "metadata": {},
   "source": [
    "# Questions\n",
    "\n",
    "1. What is the property decorator?  \n",
    "\n",
    "It is a class that returns a property attribute which is a convenient way to write getters/setters on class properties. It doesn't actually prevent access, so your member variables aren't completely encapsulated. "
   ]
  },
  {
   "cell_type": "code",
   "execution_count": null,
   "metadata": {},
   "outputs": [],
   "source": []
  }
 ],
 "metadata": {
  "kernelspec": {
   "display_name": "Python 3",
   "language": "python",
   "name": "python3"
  },
  "language_info": {
   "codemirror_mode": {
    "name": "ipython",
    "version": 3
   },
   "file_extension": ".py",
   "mimetype": "text/x-python",
   "name": "python",
   "nbconvert_exporter": "python",
   "pygments_lexer": "ipython3",
   "version": "3.6.5"
  }
 },
 "nbformat": 4,
 "nbformat_minor": 2
}
