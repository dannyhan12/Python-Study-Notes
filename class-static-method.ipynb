{
 "cells": [
  {
   "cell_type": "markdown",
   "metadata": {},
   "source": [
    "This notebook describes the differences between class and static methods in Python.\n",
    "\n",
    "References:\n",
    "\n"
   ]
  },
  {
   "cell_type": "code",
   "execution_count": 6,
   "metadata": {},
   "outputs": [
    {
     "name": "stdout",
     "output_type": "stream",
     "text": [
      "c1 is: <__main__.MyClass object at 0x10a2ecac8>\n",
      "c2 is: <__main__.MyClass object at 0x10a2ec7f0>\n"
     ]
    }
   ],
   "source": [
    "# Function signature is different\n",
    "class MyClass():\n",
    "    def __init__(self, data):\n",
    "        self.data = data\n",
    "    @staticmethod\n",
    "    def do_something(value):\n",
    "        print(value)\n",
    "    @classmethod\n",
    "    def make_item(cls, value):\n",
    "        return cls(value)\n",
    "c1 = MyClass('hello')\n",
    "print('c1 is:', c1)\n",
    "\n",
    "c2 = MyClass.make_item('hi')\n",
    "print('c2 is:', c2)"
   ]
  },
  {
   "cell_type": "markdown",
   "metadata": {},
   "source": [
    "When should you use `staticmethod`?\n",
    "\n",
    "- The code could be a separate stand-alone function, but it is related to the class in someway."
   ]
  },
  {
   "cell_type": "markdown",
   "metadata": {},
   "source": [
    "When should you use `classmethod`?\n",
    "\n",
    "- You need to know what called the classmethod. "
   ]
  },
  {
   "cell_type": "code",
   "execution_count": 24,
   "metadata": {},
   "outputs": [
    {
     "name": "stdout",
     "output_type": "stream",
     "text": [
      "creating instance of base class\n",
      "BaseClass.__init__\n",
      "BaseClass._do_init_work\n",
      "\n",
      "creating instance of derived class\n",
      "DerivedClass.__init__\n",
      "BaseClass.__init__\n",
      "DerivedClass._do_init_work\n"
     ]
    }
   ],
   "source": [
    "# classmethod with inheritance example\n",
    "class BaseClass:\n",
    "    def __init__(self):\n",
    "        print('BaseClass.__init__')\n",
    "        # Note here that this resolves to either the\n",
    "        # Base or Derived version of _do_init_work,\n",
    "        # depending on what is being created\n",
    "        self._do_init_work()\n",
    "    @classmethod\n",
    "    def _do_init_work(cls):\n",
    "        print('BaseClass._do_init_work')\n",
    "class DerivedClass(BaseClass):\n",
    "    def __init__(self):\n",
    "        print('DerivedClass.__init__')\n",
    "        super().__init__()\n",
    "    @classmethod\n",
    "    def _do_init_work(cls):\n",
    "        print('DerivedClass._do_init_work')\n",
    "print('creating instance of base class')\n",
    "b = BaseClass()\n",
    "\n",
    "print('\\ncreating instance of derived class')\n",
    "d = DerivedClass()"
   ]
  },
  {
   "cell_type": "code",
   "execution_count": null,
   "metadata": {},
   "outputs": [],
   "source": []
  }
 ],
 "metadata": {
  "kernelspec": {
   "display_name": "Python 3",
   "language": "python",
   "name": "python3"
  },
  "language_info": {
   "codemirror_mode": {
    "name": "ipython",
    "version": 3
   },
   "file_extension": ".py",
   "mimetype": "text/x-python",
   "name": "python",
   "nbconvert_exporter": "python",
   "pygments_lexer": "ipython3",
   "version": "3.6.5"
  }
 },
 "nbformat": 4,
 "nbformat_minor": 2
}
