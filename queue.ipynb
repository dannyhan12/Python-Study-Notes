{
 "cells": [
  {
   "cell_type": "markdown",
   "metadata": {},
   "source": [
    "This notebook describes how to make a FIFO queue data structure in python. \n",
    "\n",
    "References: https://docs.python.org/3/tutorial/datastructures.html"
   ]
  },
  {
   "cell_type": "code",
   "execution_count": 3,
   "metadata": {},
   "outputs": [
    {
     "name": "stdout",
     "output_type": "stream",
     "text": [
      "first item in q is: a\n",
      "remaining items in q are: ['b', 'c']\n"
     ]
    }
   ],
   "source": [
    "# Make a queue with a list\n",
    "q = ['a', 'b', 'c']\n",
    "\n",
    "# Pop off the first item\n",
    "print('first item in q is:', q.pop(0))\n",
    "print('remaining items in q are:', q)\n",
    "\n",
    "# This works, but it is inefficient because items need to be shifted around."
   ]
  },
  {
   "cell_type": "code",
   "execution_count": 4,
   "metadata": {},
   "outputs": [
    {
     "name": "stdout",
     "output_type": "stream",
     "text": [
      "first item in q is: a\n",
      "remaining items in q are: deque(['b', 'c'])\n"
     ]
    }
   ],
   "source": [
    "# Option 2. Make a queue with the double ended queue\n",
    "from collections import deque\n",
    "q = deque(['a', 'b', 'c'])\n",
    "\n",
    "# Pop off the first item\n",
    "print('first item in q is:', q.popleft())\n",
    "print('remaining items in q are:', q)\n",
    "\n",
    "# This is more efficient as double ended queues are designed for fast appending/popping to either end of queue."
   ]
  }
 ],
 "metadata": {
  "kernelspec": {
   "display_name": "Python 3",
   "language": "python",
   "name": "python3"
  },
  "language_info": {
   "codemirror_mode": {
    "name": "ipython",
    "version": 3
   },
   "file_extension": ".py",
   "mimetype": "text/x-python",
   "name": "python",
   "nbconvert_exporter": "python",
   "pygments_lexer": "ipython3",
   "version": "3.6.5"
  }
 },
 "nbformat": 4,
 "nbformat_minor": 2
}
