{
 "cells": [
  {
   "cell_type": "code",
   "execution_count": 2,
   "metadata": {},
   "outputs": [
    {
     "name": "stdout",
     "output_type": "stream",
     "text": [
      "Description: This notebook is about the keyword `global` in python.\n"
     ]
    }
   ],
   "source": [
    "print('Description: This page is about the keyword `global` in python.')"
   ]
  },
  {
   "cell_type": "code",
   "execution_count": 3,
   "metadata": {},
   "outputs": [
    {
     "name": "stdout",
     "output_type": "stream",
     "text": [
      "myFunction a: 123 b: 123\n",
      "a is: 123\n",
      "b is: initial\n"
     ]
    }
   ],
   "source": [
    "# Sample code\n",
    "a = 'initial'\n",
    "b = 'initial'\n",
    "def myFunction(val):\n",
    "    global a\n",
    "    a = val\n",
    "    b = val\n",
    "    print('myFunction a:', a, 'b:', b)\n",
    "myFunction(123)\n",
    "print('a is:', str(a))\n",
    "print('b is:', str(b))"
   ]
  },
  {
   "cell_type": "code",
   "execution_count": 4,
   "metadata": {},
   "outputs": [
    {
     "name": "stdout",
     "output_type": "stream",
     "text": [
      "Question 1: What is the `global` keyword in python?\n",
      "Answer   1: `global` modifies a variable so that it can refer to one outside of its scope\n"
     ]
    }
   ],
   "source": [
    "print('Question 1: What is the `global` keyword in python?')\n",
    "print('Answer   1: `global` modifies a variable so that it can refer to one outside of its scope')"
   ]
  }
 ],
 "metadata": {
  "kernelspec": {
   "display_name": "Python 3",
   "language": "python",
   "name": "python3"
  },
  "language_info": {
   "codemirror_mode": {
    "name": "ipython",
    "version": 3
   },
   "file_extension": ".py",
   "mimetype": "text/x-python",
   "name": "python",
   "nbconvert_exporter": "python",
   "pygments_lexer": "ipython3",
   "version": "3.6.5"
  }
 },
 "nbformat": 4,
 "nbformat_minor": 2
}
