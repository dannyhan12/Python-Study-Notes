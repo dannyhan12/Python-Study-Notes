{
 "cells": [
  {
   "cell_type": "markdown",
   "metadata": {},
   "source": [
    "This page is about slicing python lists."
   ]
  },
  {
   "cell_type": "code",
   "execution_count": 31,
   "metadata": {},
   "outputs": [
    {
     "name": "stdout",
     "output_type": "stream",
     "text": [
      "myList[0:] is: ['a', 'b', 'c', 'd']\n",
      "myList[:1] is: ['a']\n",
      "myList[1:] is: ['b', 'c', 'd']\n",
      "myList[1:1] is: []\n",
      "myList[1:2] is: ['b']\n",
      "myList[1:4] is: ['b', 'c', 'd']\n",
      "myList[1:5] is: ['b', 'c', 'd']\n",
      "myList[1:-1] is: ['b', 'c']\n",
      "myList[0:999] is: ['a', 'b', 'c', 'd']\n",
      "myList[0:-1:-1] is: []\n",
      "myList[0:999:-1] is: []\n"
     ]
    }
   ],
   "source": [
    "# Sample code\n",
    "myList = ['a', 'b', 'c', 'd']\n",
    "\n",
    "print('myList[0:] is:', myList[:])\n",
    "print('myList[:1] is:', myList[:1])\n",
    "print('myList[1:] is:', myList[1:])\n",
    "\n",
    "pairs = [[1, 1], [1,2], [1,4], [1,5],\n",
    "         [1,-1],\n",
    "         [0, 999],\n",
    "         [0, -1, -1],\n",
    "         [0, 999, -1]]\n",
    "for p in pairs:\n",
    "    if len(p) == 2:\n",
    "        print('myList[%s:%s] is:' % (p[0], p[1]), myList[p[0]:p[1]])\n",
    "    else: \n",
    "        print('myList[%d:%d:%d] is:' % (p[0], p[1], p[2]), myList[p[0]:p[1]:p[2]])\n"
   ]
  },
  {
   "cell_type": "markdown",
   "metadata": {},
   "source": [
    "# Questions\n",
    "\n",
    "1. If len(myList) == 4, what is \n",
    "    1. len(myList[1:3]) ?\n",
    "    2. len(myList[1:4]) ?\n",
    "    3. len(myList[1:5]) ?\n",
    "\n",
    "        The answers are 2, 3, and 3 respectively. "
   ]
  },
  {
   "cell_type": "code",
   "execution_count": null,
   "metadata": {},
   "outputs": [],
   "source": []
  }
 ],
 "metadata": {
  "kernelspec": {
   "display_name": "Python 3",
   "language": "python",
   "name": "python3"
  },
  "language_info": {
   "codemirror_mode": {
    "name": "ipython",
    "version": 3
   },
   "file_extension": ".py",
   "mimetype": "text/x-python",
   "name": "python",
   "nbconvert_exporter": "python",
   "pygments_lexer": "ipython3",
   "version": "3.6.5"
  }
 },
 "nbformat": 4,
 "nbformat_minor": 2
}
